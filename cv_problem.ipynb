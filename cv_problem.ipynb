{
  "nbformat": 4,
  "nbformat_minor": 0,
  "metadata": {
    "colab": {
      "name": "cv_problem.ipynb",
      "version": "0.3.2",
      "provenance": [],
      "collapsed_sections": [],
      "include_colab_link": true
    },
    "kernelspec": {
      "name": "python3",
      "display_name": "Python 3"
    }
  },
  "cells": [
    {
      "cell_type": "markdown",
      "metadata": {
        "id": "view-in-github",
        "colab_type": "text"
      },
      "source": [
        "<a href=\"https://colab.research.google.com/github/GrtSid/midasIIITD/blob/master/cv_problem.ipynb\" target=\"_parent\"><img src=\"https://colab.research.google.com/assets/colab-badge.svg\" alt=\"Open In Colab\"/></a>"
      ]
    },
    {
      "metadata": {
        "id": "6Zyylssoi-uY",
        "colab_type": "text"
      },
      "cell_type": "markdown",
      "source": [
        "Imported drive library to access dataset from google drive. Added the dataset to my drive and hence fetched the data from there."
      ]
    },
    {
      "metadata": {
        "id": "dgZzJrgfv4bu",
        "colab_type": "code",
        "outputId": "c504e6d2-fd97-4287-e33d-b0c99b298c3c",
        "colab": {
          "base_uri": "https://localhost:8080/",
          "height": 122
        }
      },
      "cell_type": "code",
      "source": [
        "from google.colab import drive\n",
        "drive.mount('/content/drive')"
      ],
      "execution_count": 1,
      "outputs": [
        {
          "output_type": "stream",
          "text": [
            "Go to this URL in a browser: https://accounts.google.com/o/oauth2/auth?client_id=947318989803-6bn6qk8qdgf4n4g3pfee6491hc0brc4i.apps.googleusercontent.com&redirect_uri=urn%3Aietf%3Awg%3Aoauth%3A2.0%3Aoob&scope=email%20https%3A%2F%2Fwww.googleapis.com%2Fauth%2Fdocs.test%20https%3A%2F%2Fwww.googleapis.com%2Fauth%2Fdrive%20https%3A%2F%2Fwww.googleapis.com%2Fauth%2Fdrive.photos.readonly%20https%3A%2F%2Fwww.googleapis.com%2Fauth%2Fpeopleapi.readonly&response_type=code\n",
            "\n",
            "Enter your authorization code:\n",
            "··········\n",
            "Mounted at /content/drive\n"
          ],
          "name": "stdout"
        }
      ]
    },
    {
      "metadata": {
        "id": "dm3KOTUkjiQu",
        "colab_type": "text"
      },
      "cell_type": "markdown",
      "source": [
        "Change the path to the location where dataset is stored."
      ]
    },
    {
      "metadata": {
        "id": "A00Cu2PKPbXE",
        "colab_type": "code",
        "colab": {}
      },
      "cell_type": "code",
      "source": [
        "root_path = 'drive/My Drive/Vision_task_dataset_public/'"
      ],
      "execution_count": 0,
      "outputs": []
    },
    {
      "metadata": {
        "id": "mJvk05TUjxK2",
        "colab_type": "text"
      },
      "cell_type": "markdown",
      "source": [
        "importing necessary libraries:\n",
        "1.   Pickle : to open the images stored in .pkl format.\n",
        "2.   matplotlib : to be able to plot the image in the dataset.\n",
        "1.   Numpy: for Mathematcial computation on dataset\n",
        "1.   CSV :  to write the predicted values in tabular format\n",
        "\n",
        "\n",
        "\n"
      ]
    },
    {
      "metadata": {
        "id": "IqpvOuIyPkJv",
        "colab_type": "code",
        "colab": {}
      },
      "cell_type": "code",
      "source": [
        "import pickle\n",
        "import matplotlib.pyplot as plt\n",
        "import numpy as np\n",
        "import csv"
      ],
      "execution_count": 0,
      "outputs": []
    },
    {
      "metadata": {
        "id": "RHaUXCm5kvcN",
        "colab_type": "text"
      },
      "cell_type": "markdown",
      "source": [
        "Changed the location of current directory to the location of dataset."
      ]
    },
    {
      "metadata": {
        "id": "mhK0_3D1P5hk",
        "colab_type": "code",
        "outputId": "99d6bfd0-8783-465c-b1da-b7f8be5caa14",
        "colab": {
          "base_uri": "https://localhost:8080/",
          "height": 34
        }
      },
      "cell_type": "code",
      "source": [
        "cd drive/My Drive/Vision_task_dataset_public/"
      ],
      "execution_count": 4,
      "outputs": [
        {
          "output_type": "stream",
          "text": [
            "/content/drive/My Drive/Vision_task_dataset_public\n"
          ],
          "name": "stdout"
        }
      ]
    },
    {
      "metadata": {
        "id": "ldiXFiRUk7zT",
        "colab_type": "text"
      },
      "cell_type": "markdown",
      "source": [
        "Loading the dataset using pickle library and file handling."
      ]
    },
    {
      "metadata": {
        "id": "K7JA2lMcQBDT",
        "colab_type": "code",
        "colab": {}
      },
      "cell_type": "code",
      "source": [
        "with open('train_image.pkl', 'rb') as f:\n",
        "    data = pickle.load(f)\n",
        "with open('train_label.pkl', 'rb') as a:\n",
        "    data1 = pickle.load(a)    \n",
        "with open('test_image.pkl', 'rb') as b:\n",
        "    data2 = pickle.load(b)        "
      ],
      "execution_count": 0,
      "outputs": []
    },
    {
      "metadata": {
        "id": "_I50Lav7lIdC",
        "colab_type": "text"
      },
      "cell_type": "markdown",
      "source": [
        "Storing the data in the form of array using numpy so that computations could be easily performed on the dataset.\n",
        "using matplotlib to view a sample image of the dataset."
      ]
    },
    {
      "metadata": {
        "id": "K1owndSTQrCr",
        "colab_type": "code",
        "outputId": "df8111d4-8019-4ac2-c57a-a064549f79b6",
        "colab": {
          "base_uri": "https://localhost:8080/",
          "height": 286
        }
      },
      "cell_type": "code",
      "source": [
        "\n",
        "data= np.array(data)\n",
        "data2=np.array(data2)\n",
        "data1=np.array(data1)\n",
        "plt.imshow(data[50].reshape(28,28))"
      ],
      "execution_count": 6,
      "outputs": [
        {
          "output_type": "execute_result",
          "data": {
            "text/plain": [
              "<matplotlib.image.AxesImage at 0x7fb50d7ffb70>"
            ]
          },
          "metadata": {
            "tags": []
          },
          "execution_count": 6
        },
        {
          "output_type": "display_data",
          "data": {
            "image/png": "[encoded data removed]",
            "text/plain": [
              "<Figure size 432x288 with 1 Axes>"
            ]
          },
          "metadata": {
            "tags": []
          }
        }
      ]
    },
    {
      "metadata": {
        "id": "Fv0yHJkblejU",
        "colab_type": "text"
      },
      "cell_type": "markdown",
      "source": [
        "Using shape function from numpy library to determine the shape of the dataset array."
      ]
    },
    {
      "metadata": {
        "id": "0QiNZaELQ5Kd",
        "colab_type": "code",
        "outputId": "c71df629-0c8d-4593-ac03-10b2579ccd94",
        "colab": {
          "base_uri": "https://localhost:8080/",
          "height": 68
        }
      },
      "cell_type": "code",
      "source": [
        "print (data.shape)\n",
        "print (data1.shape)\n",
        "print (data2.shape)"
      ],
      "execution_count": 7,
      "outputs": [
        {
          "output_type": "stream",
          "text": [
            "(8000, 784)\n",
            "(8000,)\n",
            "(2000, 784)\n"
          ],
          "name": "stdout"
        }
      ]
    },
    {
      "metadata": {
        "id": "EqlQkBkYlwq5",
        "colab_type": "text"
      },
      "cell_type": "markdown",
      "source": [
        "Reshaped the data inputs. The first number is the number of images (8000 for data and 2000 for data2). Then comes the shape of each image (28x28). The last number is 1, which signifies that the images are greyscale.\n",
        "Imported the keras library functions to create our model.\n",
        "\n",
        "---\n",
        "\n",
        "Sequential is the easiest way to build a model in Keras. It allows you to build a model layer by layer. So I imported Sequential model from keras and thus build a model layer by layer.\n"
      ]
    },
    {
      "metadata": {
        "id": "Vzz7MS_-Rh0j",
        "colab_type": "code",
        "outputId": "136e152e-6ec2-4fd1-bc06-e6aafee547f6",
        "colab": {
          "base_uri": "https://localhost:8080/",
          "height": 153
        }
      },
      "cell_type": "code",
      "source": [
        "data = data.reshape(8000,28,28,1)\n",
        "data2 = data2.reshape(2000,28,28,1)\n",
        "data1=np.array(data1)\n",
        "from keras.utils import to_categorical\n",
        "from keras.models import Sequential\n",
        "from keras.layers import Dense, Conv2D, Flatten, Dropout\n",
        "from keras.layers.normalization import BatchNormalization\n",
        "data1 = to_categorical(data1)\n",
        "print (data1)\n"
      ],
      "execution_count": 8,
      "outputs": [
        {
          "output_type": "stream",
          "text": [
            "Using TensorFlow backend.\n"
          ],
          "name": "stderr"
        },
        {
          "output_type": "stream",
          "text": [
            "[[1. 0. 0. ... 0. 0. 0.]\n",
            " [1. 0. 0. ... 0. 0. 0.]\n",
            " [1. 0. 0. ... 0. 0. 0.]\n",
            " ...\n",
            " [0. 0. 0. ... 0. 0. 1.]\n",
            " [0. 0. 0. ... 0. 0. 1.]\n",
            " [0. 0. 0. ... 0. 0. 1.]]\n"
          ],
          "name": "stdout"
        }
      ]
    },
    {
      "metadata": {
        "id": "vsPoo5RimZMt",
        "colab_type": "text"
      },
      "cell_type": "markdown",
      "source": [
        "Created a CNN Model using relu and softmax activation function. \n",
        "\n",
        "---\n",
        "\n",
        "The first 2 layers are Conv2D layers. These are convolution layers that will deal with our input images, which are seen as 2-dimensional matrices. In between the Conv2D layers and the dense layer, there is a ‘Flatten’ layer. Flatten serves as a connection between the convolution and dense layer.The activation function used in dense layer is ‘softmax’. Softmax makes the output sum up to 1 so the output can be interpreted as probabilities. The model will then make its prediction based on which option has the highest probability.\n",
        "Droupout function is added to eliminate the overfitting of the model on the training data. Used Batch normalization function to normalize the inputs of each layer, in order to fight the internal covariate shift problem."
      ]
    },
    {
      "metadata": {
        "id": "FvS2fYcFYOUb",
        "colab_type": "code",
        "outputId": "c125ffe9-d22a-42fa-b11b-f6d237e1d86f",
        "colab": {
          "base_uri": "https://localhost:8080/",
          "height": 139
        }
      },
      "cell_type": "code",
      "source": [
        "model = Sequential()\n",
        "model.add(Conv2D(512, kernel_size=3, activation='relu',input_shape=(28,28,1)))\n",
        "model.add(BatchNormalization())\n",
        "model.add(Conv2D(256, kernel_size=3, activation='relu'))\n",
        "model.add(BatchNormalization())\n",
        "model.add(Conv2D(128, kernel_size=3, activation='relu'))\n",
        "model.add(BatchNormalization())\n",
        "model.add(Conv2D(64, kernel_size=3, activation='relu'))\n",
        "model.add(BatchNormalization())\n",
        "model.add(Conv2D(32, kernel_size=3, activation='relu'))\n",
        "model.add(BatchNormalization())\n",
        "model.add(Flatten())\n",
        "model.add(Dropout(0.5))\n",
        "model.add(Dense(7, activation='softmax'))"
      ],
      "execution_count": 9,
      "outputs": [
        {
          "output_type": "stream",
          "text": [
            "WARNING:tensorflow:From /usr/local/lib/python3.6/dist-packages/tensorflow/python/framework/op_def_library.py:263: colocate_with (from tensorflow.python.framework.ops) is deprecated and will be removed in a future version.\n",
            "Instructions for updating:\n",
            "Colocations handled automatically by placer.\n",
            "WARNING:tensorflow:From /usr/local/lib/python3.6/dist-packages/keras/backend/tensorflow_backend.py:3445: calling dropout (from tensorflow.python.ops.nn_ops) with keep_prob is deprecated and will be removed in a future version.\n",
            "Instructions for updating:\n",
            "Please use `rate` instead of `keep_prob`. Rate should be set to `rate = 1 - keep_prob`.\n"
          ],
          "name": "stdout"
        }
      ]
    },
    {
      "metadata": {
        "id": "dxM5qK3QmsvL",
        "colab_type": "text"
      },
      "cell_type": "markdown",
      "source": [
        "Compiling of the model takes place. The first argument \"adam\" controls the learning rate throughout the training. Second argument ‘categorical_crossentropy’ for loss function. A lower score indicates that the model is performing better.  To be able to interpret the model easily used the accuracy metric as the third argument."
      ]
    },
    {
      "metadata": {
        "id": "jaHRoxWWgZvx",
        "colab_type": "code",
        "colab": {}
      },
      "cell_type": "code",
      "source": [
        "\n",
        "model.compile(optimizer='adam', loss='categorical_crossentropy', metrics=['accuracy'])\n"
      ],
      "execution_count": 0,
      "outputs": []
    },
    {
      "metadata": {
        "id": "sN2chs-8JXvN",
        "colab_type": "text"
      },
      "cell_type": "markdown",
      "source": [
        "Now, trained the model using fit() function with epoch =4 and batch_size = 50 to achieve better accuracy on the dataset."
      ]
    },
    {
      "metadata": {
        "id": "gpn81RJeiWVn",
        "colab_type": "code",
        "outputId": "ffc36411-6d7c-4832-a09c-44d56576d4b6",
        "colab": {
          "base_uri": "https://localhost:8080/",
          "height": 170
        }
      },
      "cell_type": "code",
      "source": [
        "model.fit(data, data1, epochs=4, batch_size=50)"
      ],
      "execution_count": 13,
      "outputs": [
        {
          "output_type": "stream",
          "text": [
            "Epoch 1/4\n",
            "8000/8000 [==============================] - 1158s 145ms/step - loss: 0.9864 - acc: 0.6883\n",
            "Epoch 2/4\n",
            "8000/8000 [==============================] - 1150s 144ms/step - loss: 0.7544 - acc: 0.7622\n",
            "Epoch 3/4\n",
            "8000/8000 [==============================] - 1151s 144ms/step - loss: 0.6568 - acc: 0.7965\n",
            "Epoch 4/4\n",
            "8000/8000 [==============================] - 1149s 144ms/step - loss: 0.5870 - acc: 0.8149\n"
          ],
          "name": "stdout"
        },
        {
          "output_type": "execute_result",
          "data": {
            "text/plain": [
              "<keras.callbacks.History at 0x7fb4eadd1208>"
            ]
          },
          "metadata": {
            "tags": []
          },
          "execution_count": 13
        }
      ]
    },
    {
      "metadata": {
        "id": "rW_uKsxXmuvn",
        "colab_type": "text"
      },
      "cell_type": "markdown",
      "source": [
        "Predicted the output base on the model fit above i.e. classified the test images into different categories or provided them the labels."
      ]
    },
    {
      "metadata": {
        "id": "TA_SSs7WitNR",
        "colab_type": "code",
        "outputId": "b965664e-ad46-42aa-bc1d-e2dc6d5f4490",
        "colab": {
          "base_uri": "https://localhost:8080/",
          "height": 51
        }
      },
      "cell_type": "code",
      "source": [
        "predicted=model.predict_classes(data2,verbose=1)\n",
        "print (predicted)"
      ],
      "execution_count": 14,
      "outputs": [
        {
          "output_type": "stream",
          "text": [
            "2000/2000 [==============================] - 76s 38ms/step\n",
            "[0 0 0 ... 6 6 6]\n"
          ],
          "name": "stdout"
        }
      ]
    },
    {
      "metadata": {
        "id": "0vSUIrpGm1Nd",
        "colab_type": "text"
      },
      "cell_type": "markdown",
      "source": [
        "The values predicted are represented in the tabular format in the file name \"siddhant_agarwal.csv\"."
      ]
    },
    {
      "metadata": {
        "id": "U0BnpKLCu5S4",
        "colab_type": "code",
        "colab": {}
      },
      "cell_type": "code",
      "source": [
        "csvdata=['image_index','class']\n",
        "with open('/content/siddhant_agarwal.csv','w') as csvfile:\n",
        "  writer= csv.writer(csvfile)\n",
        "  writer.writerow(csvdata)\n",
        "  j=0\n",
        "  for i in predicted:\n",
        "    row=[j,i]\n",
        "    j=j+1\n",
        "    writer.writerow(row)"
      ],
      "execution_count": 0,
      "outputs": []
    }
  ]
}