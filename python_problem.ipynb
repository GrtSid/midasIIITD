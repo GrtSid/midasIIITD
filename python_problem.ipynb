{
  "nbformat": 4,
  "nbformat_minor": 0,
  "metadata": {
    "colab": {
      "name": "python_problem.ipynb",
      "version": "0.3.2",
      "provenance": [],
      "collapsed_sections": [],
      "include_colab_link": true
    },
    "kernelspec": {
      "display_name": "Python 3",
      "language": "python",
      "name": "python3"
    }
  },
  "cells": [
    {
      "cell_type": "markdown",
      "metadata": {
        "id": "view-in-github",
        "colab_type": "text"
      },
      "source": [
        "<a href=\"https://colab.research.google.com/github/GrtSid/midasIIITD/blob/master/python_problem.ipynb\" target=\"_parent\"><img src=\"https://colab.research.google.com/assets/colab-badge.svg\" alt=\"Open In Colab\"/></a>"
      ]
    },
    {
      "metadata": {
        "id": "PLYXy4rKDijB",
        "colab_type": "text"
      },
      "cell_type": "markdown",
      "source": [
        "Installing the Twiiter wrapper and jsonlines library\n"
      ]
    },
    {
      "metadata": {
        "id": "GNBFPfLw3-WJ",
        "colab_type": "code",
        "outputId": "79ad5589-2222-4875-931b-de3a6220cb6e",
        "colab": {
          "base_uri": "https://localhost:8080/",
          "height": 204
        }
      },
      "cell_type": "code",
      "source": [
        "! pip install python-twitter\n",
        "! pip install jsonlines"
      ],
      "execution_count": 0,
      "outputs": [
        {
          "output_type": "stream",
          "text": [
            "Requirement already satisfied: python-twitter in /usr/local/lib/python3.6/dist-packages (3.5)\n",
            "Requirement already satisfied: requests-oauthlib in /usr/local/lib/python3.6/dist-packages (from python-twitter) (1.2.0)\n",
            "Requirement already satisfied: future in /usr/local/lib/python3.6/dist-packages (from python-twitter) (0.16.0)\n",
            "Requirement already satisfied: requests in /usr/local/lib/python3.6/dist-packages (from python-twitter) (2.18.4)\n",
            "Requirement already satisfied: oauthlib>=3.0.0 in /usr/local/lib/python3.6/dist-packages (from requests-oauthlib->python-twitter) (3.0.1)\n",
            "Requirement already satisfied: urllib3<1.23,>=1.21.1 in /usr/local/lib/python3.6/dist-packages (from requests->python-twitter) (1.22)\n",
            "Requirement already satisfied: certifi>=2017.4.17 in /usr/local/lib/python3.6/dist-packages (from requests->python-twitter) (2019.3.9)\n",
            "Requirement already satisfied: idna<2.7,>=2.5 in /usr/local/lib/python3.6/dist-packages (from requests->python-twitter) (2.6)\n",
            "Requirement already satisfied: chardet<3.1.0,>=3.0.2 in /usr/local/lib/python3.6/dist-packages (from requests->python-twitter) (3.0.4)\n",
            "Requirement already satisfied: jsonlines in /usr/local/lib/python3.6/dist-packages (1.2.0)\n",
            "Requirement already satisfied: six in /usr/local/lib/python3.6/dist-packages (from jsonlines) (1.11.0)\n"
          ],
          "name": "stdout"
        }
      ]
    },
    {
      "metadata": {
        "id": "uJbTILXXHR3M",
        "colab_type": "text"
      },
      "cell_type": "markdown",
      "source": [
        "Importing json and jsonlines to dump and parse data in .jsonl file. \n",
        "importing csv to represent the data in tabular format."
      ]
    },
    {
      "metadata": {
        "id": "f0_ZTNSD3-WT",
        "colab_type": "code",
        "colab": {}
      },
      "cell_type": "code",
      "source": [
        "import json\n",
        "import jsonlines\n",
        "import csv\n",
        "import twitter\n",
        "\n",
        "api=twitter.Api()"
      ],
      "execution_count": 0,
      "outputs": []
    },
    {
      "metadata": {
        "id": "Z2gaxXTPHv4h",
        "colab_type": "text"
      },
      "cell_type": "markdown",
      "source": [
        "Necessary authenitication keys to fetch data from twitter api\n"
      ]
    },
    {
      "metadata": {
        "id": "jwaYSTe63-WW",
        "colab_type": "code",
        "colab": {}
      },
      "cell_type": "code",
      "source": [
        "\n",
        "consumer_key = \"\"\n",
        "consumer_secret = \"\"\n",
        "access_token = \"\"\n",
        "access_token_secret = \"\"\n",
        "api = twitter.Api(consumer_key, consumer_secret, access_token, access_token_secret)"
      ],
      "execution_count": 0,
      "outputs": []
    },
    {
      "metadata": {
        "id": "l8dULXEiH5dP",
        "colab_type": "text"
      },
      "cell_type": "markdown",
      "source": [
        "Fetching data from twitter for the user with screen_name=midasIIITD"
      ]
    },
    {
      "metadata": {
        "id": "JZH_PNEryL7R",
        "colab_type": "code",
        "colab": {}
      },
      "cell_type": "code",
      "source": [
        "statuses = api.GetUserTimeline(screen_name=\"midasIIITD\")"
      ],
      "execution_count": 0,
      "outputs": []
    },
    {
      "metadata": {
        "id": "wkiURfFpILGa",
        "colab_type": "text"
      },
      "cell_type": "markdown",
      "source": [
        "Appending the required fields from the data fetched above to a list thereby dump the data in the **data.json** file. Note : Images count could not be returned by the api. "
      ]
    },
    {
      "metadata": {
        "id": "Vncc1dXp0nMh",
        "colab_type": "code",
        "colab": {}
      },
      "cell_type": "code",
      "source": [
        "result=[]\n",
        "for tweet in statuses:\n",
        "  result.append({\"text\": tweet.text,\n",
        "                'date_time':tweet.created_at,\n",
        "                'no_favourites':tweet.user.favourites_count,\n",
        "                'no_retweet':tweet.retweet_count,\n",
        "                })\n",
        "with open('data.jsonl','w+') as writer:\n",
        "  json.dump(result,writer)"
      ],
      "execution_count": 0,
      "outputs": []
    },
    {
      "metadata": {
        "id": "eHpkJBlRIz54",
        "colab_type": "text"
      },
      "cell_type": "markdown",
      "source": [
        "Opened a CSV File in write mode and thereby wrote the data in it to represent the data in tabular format. First the Field Names are written in the data.csv file and thereafter the data read from the data.jsonl file in written row by row in the data.csv."
      ]
    },
    {
      "metadata": {
        "id": "aE-tcdIxxUOv",
        "colab_type": "code",
        "colab": {}
      },
      "cell_type": "code",
      "source": [
        "csvdata=['Text','Date_Time','No_Favourites','No_retweets']\n",
        "with jsonlines.open('data.jsonl','r') as reader:\n",
        "    \n",
        "    with open('data.csv','w') as csvfile:\n",
        "      writer= csv.writer(csvfile)\n",
        "      writer.writerow(csvdata)\n",
        "      for obj in reader:\n",
        "        for i in range(len(obj)):\n",
        "          row=[obj[i]['text'],obj[i]['date_time'],obj[i]['no_favourites'],obj[i]['no_retweet']]\n",
        "          writer.writerow(row)\n",
        "    \n",
        "  \n",
        "\n",
        "      "
      ],
      "execution_count": 0,
      "outputs": []
    },
    {
      "metadata": {
        "id": "fYRtVU2lTkYQ",
        "colab_type": "code",
        "colab": {}
      },
      "cell_type": "code",
      "source": [
        ""
      ],
      "execution_count": 0,
      "outputs": []
    }
  ]
}